import random
from typing import List

class SampleEnvironment:
  def __init__(self):
    self.steps_left = 30

  def get_observation(self) -> List[float]:
    return [0.0, 0.0, 0.0]

  def get_actions(self) -> List[int]:
    return [0, 1]

  def is_done(self) -> bool:
    return self.steps_left == 0

  def action(self, action: int) -> float:
    if self.is_done():
      raise Exception('Game is over')
    self.steps_left -= 1
    return random.random()

class Agent:
  def __init__(self):
    self.total_reward = 0.0

  def step(self, env: SampleEnvironment):
    current_obs = env.get_observation()
    print(f"Observation: {current_obs}")

    actions = env.get_actions()
    print(f'Actions: {actions}')

    reward = env.action(random.choice(actions)) # here we pick reward randomly, however if the policy is perfect then we should get only positive rewards
    print(f'Reward: {reward}')

    self.total_reward += reward
    print(f'Total Rewards: {self.total_reward}')

if __name__ == '__main__':
  env = SampleEnvironment()
  agent = Agent()
  i = 1
  while not env.is_done():
    print(f'Step: {i}, Steps left: {env.steps_left}')
    i += 1
    agent.step(env)
    print('\n')
